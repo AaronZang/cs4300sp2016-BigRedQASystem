{
 "cells": [
  {
   "cell_type": "code",
   "execution_count": 1,
   "metadata": {
    "collapsed": false
   },
   "outputs": [
    {
     "name": "stdout",
     "output_type": "stream",
     "text": [
      "number of tv series: 1777\n"
     ]
    }
   ],
   "source": [
    "from __future__ import print_function\n",
    "import requests\n",
    "import re\n",
    "session = requests.session()\n",
    "\n",
    "# movie_lists = ['http://www.moviesubtitles.org/movies.html'] + \\\n",
    "#               ['http://www.moviesubtitles.org/movies_%s.html' % chr(c) for c in xrange(66, 91)] + \\\n",
    "#               ['http://www.moviesubtitles.org/movies_#.html']\n",
    "\n",
    "BASE_URL = 'http://www.tvsubtitles.net/'\n",
    "TV_LIST = 'http://www.tvsubtitles.net/tvshows.html'\n",
    "response = session.get(TV_LIST)\n",
    "response.raise_for_status()\n",
    "\n",
    "tvlist_content = response.content\n",
    "shows = re.findall(r'<a href=\"(tvshow-.*?\\.html)\"', tvlist_content)\n",
    "print('number of tv series:', len(shows))"
   ]
  },
  {
   "cell_type": "code",
   "execution_count": 2,
   "metadata": {
    "collapsed": false
   },
   "outputs": [
    {
     "name": "stdout",
     "output_type": "stream",
     "text": [
      "0 tvshow-634-10.html \t(0) for (1)seasons.\n",
      "1 tvshow-486-1.html \t(1) for (1)seasons.\n",
      "2 tvshow-1769-1.html \t(0) for (1)seasons.\n",
      "3 tvshow-700-1.html \t(1) for (1)seasons.\n",
      "4 tvshow-1110-1.html \t(1) for (1)seasons.\n",
      "5 tvshow-1938-1.html \t(1) for (1)seasons.\n",
      "6 tvshow-1655-1.html \t(1) for (1)seasons.\n",
      "7 tvshow-875-3.html \t(0) for (1)seasons.\n",
      "8 tvshow-1226-1.html \t(1) for (1)seasons.\n",
      "9 tvshow-739-2.html \t(0) for (1)seasons.\n",
      "10 tvshow-899-2.html \t(0) for (1)seasons.\n",
      "11 tvshow-985-5.html \t(5) for (5)seasons.\n",
      "12 tvshow-38-9.html \t(9) for (9)seasons.\n",
      "13 tvshow-451-1.html \t(1) for (1)seasons.\n",
      "14 tvshow-46-7.html \t(7) for (7)seasons.\n",
      "15 tvshow-943-1.html \t(0) for (1)seasons.\n",
      "16 tvshow-653-6.html \t(0) for (1)seasons.\n",
      "17 tvshow-1171-2.html \t(0) for (1)seasons.\n",
      "18 tvshow-271-1.html \t(1) for (1)seasons.\n",
      "19 tvshow-1205-1.html \t(1) for (1)seasons.\n",
      "20 tvshow-419-11.html \t(0) for (1)seasons.\n",
      "21 tvshow-642-3.html \t(0) for (1)seasons.\n",
      "22 tvshow-244-5.html \t(5) for (5)seasons.\n",
      "23 tvshow-361-4.html \t(4) for (4)seasons.\n",
      "24 tvshow-993-1.html \t(1) for (1)seasons.\n",
      "25 tvshow-1567-1.html \t(1) for (1)seasons.\n",
      "26 tvshow-1229-1.html \t(1) for (1)seasons.\n",
      "27 tvshow-1729-1.html \t(1) for (1)seasons.\n",
      "28 tvshow-1437-2.html \t(2) for (2)seasons.\n",
      "29 tvshow-616-4.html \t(0) for (1)seasons.\n",
      "30 tvshow-500-2.html \t(2) for (2)seasons.\n",
      "31 tvshow-508-1.html \t(1) for (1)seasons.\n",
      "32 tvshow-537-8.html \t(0) for (1)seasons.\n",
      "33 tvshow-823-2.html \t(2) for (2)seasons.\n",
      "34 tvshow-1311-7.html \t(0) for (1)seasons.\n",
      "35 tvshow-1219-6.html \t(0) for (1)seasons.\n",
      "36 tvshow-313-1.html \t(0) for (1)seasons.\n",
      "37 tvshow-200-2.html \t(0) for (1)seasons.\n",
      "38 tvshow-955-1.html \t(1) for (1)seasons.\n",
      "39 tvshow-613-6.html \t(6) for (6)seasons.\n",
      "40 tvshow-992-13.html \t(0) for (1)seasons.\n",
      "41 tvshow-1896-1.html \t(1) for (1)seasons.\n",
      "42 tvshow-1034-6.html \t(0) for (1)seasons.\n",
      "43 tvshow-1092-14.html \t(0) for (1)seasons.\n",
      "44 tvshow-1462-4.html \t(2) for (4)seasons.\n",
      "45 tvshow-1075-3.html \t(0) for (1)seasons.\n",
      "46 tvshow-1038-1.html \t(1) for (1)seasons.\n"
     ]
    },
    {
     "ename": "KeyboardInterrupt",
     "evalue": "",
     "output_type": "error",
     "traceback": [
      "\u001b[0;31m---------------------------------------------------------------------------\u001b[0m",
      "\u001b[0;31mKeyboardInterrupt\u001b[0m                         Traceback (most recent call last)",
      "\u001b[0;32m<ipython-input-2-e777b35bf103>\u001b[0m in \u001b[0;36m<module>\u001b[0;34m()\u001b[0m\n\u001b[1;32m     20\u001b[0m             \u001b[0;32mfor\u001b[0m \u001b[0msl\u001b[0m \u001b[0;32min\u001b[0m \u001b[0mseason_links\u001b[0m\u001b[0;34m:\u001b[0m\u001b[0;34m\u001b[0m\u001b[0m\n\u001b[1;32m     21\u001b[0m                 \u001b[0mseason_url\u001b[0m \u001b[0;34m=\u001b[0m \u001b[0mBASE_URL\u001b[0m \u001b[0;34m+\u001b[0m \u001b[0msl\u001b[0m\u001b[0;34m\u001b[0m\u001b[0m\n\u001b[0;32m---> 22\u001b[0;31m                 \u001b[0mresponse\u001b[0m \u001b[0;34m=\u001b[0m \u001b[0msession\u001b[0m\u001b[0;34m.\u001b[0m\u001b[0mget\u001b[0m\u001b[0;34m(\u001b[0m\u001b[0mseason_url\u001b[0m\u001b[0;34m)\u001b[0m\u001b[0;34m\u001b[0m\u001b[0m\n\u001b[0m\u001b[1;32m     23\u001b[0m                 \u001b[0mresponse\u001b[0m\u001b[0;34m.\u001b[0m\u001b[0mraise_for_status\u001b[0m\u001b[0;34m(\u001b[0m\u001b[0;34m)\u001b[0m\u001b[0;34m\u001b[0m\u001b[0m\n\u001b[1;32m     24\u001b[0m                 \u001b[0mresult\u001b[0m \u001b[0;34m=\u001b[0m \u001b[0mre\u001b[0m\u001b[0;34m.\u001b[0m\u001b[0mfindall\u001b[0m\u001b[0;34m(\u001b[0m\u001b[0;34m'<td><nobr><a href=\"(subtitle[\\d\\-]*?-en\\.html)\"'\u001b[0m\u001b[0;34m,\u001b[0m \u001b[0mresponse\u001b[0m\u001b[0;34m.\u001b[0m\u001b[0mcontent\u001b[0m\u001b[0;34m)\u001b[0m\u001b[0;34m\u001b[0m\u001b[0m\n",
      "\u001b[0;32m/Users/Aaron.Z/anaconda/lib/python2.7/site-packages/requests/sessions.pyc\u001b[0m in \u001b[0;36mget\u001b[0;34m(self, url, **kwargs)\u001b[0m\n\u001b[1;32m    478\u001b[0m \u001b[0;34m\u001b[0m\u001b[0m\n\u001b[1;32m    479\u001b[0m         \u001b[0mkwargs\u001b[0m\u001b[0;34m.\u001b[0m\u001b[0msetdefault\u001b[0m\u001b[0;34m(\u001b[0m\u001b[0;34m'allow_redirects'\u001b[0m\u001b[0;34m,\u001b[0m \u001b[0mTrue\u001b[0m\u001b[0;34m)\u001b[0m\u001b[0;34m\u001b[0m\u001b[0m\n\u001b[0;32m--> 480\u001b[0;31m         \u001b[0;32mreturn\u001b[0m \u001b[0mself\u001b[0m\u001b[0;34m.\u001b[0m\u001b[0mrequest\u001b[0m\u001b[0;34m(\u001b[0m\u001b[0;34m'GET'\u001b[0m\u001b[0;34m,\u001b[0m \u001b[0murl\u001b[0m\u001b[0;34m,\u001b[0m \u001b[0;34m**\u001b[0m\u001b[0mkwargs\u001b[0m\u001b[0;34m)\u001b[0m\u001b[0;34m\u001b[0m\u001b[0m\n\u001b[0m\u001b[1;32m    481\u001b[0m \u001b[0;34m\u001b[0m\u001b[0m\n\u001b[1;32m    482\u001b[0m     \u001b[0;32mdef\u001b[0m \u001b[0moptions\u001b[0m\u001b[0;34m(\u001b[0m\u001b[0mself\u001b[0m\u001b[0;34m,\u001b[0m \u001b[0murl\u001b[0m\u001b[0;34m,\u001b[0m \u001b[0;34m**\u001b[0m\u001b[0mkwargs\u001b[0m\u001b[0;34m)\u001b[0m\u001b[0;34m:\u001b[0m\u001b[0;34m\u001b[0m\u001b[0m\n",
      "\u001b[0;32m/Users/Aaron.Z/anaconda/lib/python2.7/site-packages/requests/sessions.pyc\u001b[0m in \u001b[0;36mrequest\u001b[0;34m(self, method, url, params, data, headers, cookies, files, auth, timeout, allow_redirects, proxies, hooks, stream, verify, cert, json)\u001b[0m\n\u001b[1;32m    466\u001b[0m         }\n\u001b[1;32m    467\u001b[0m         \u001b[0msend_kwargs\u001b[0m\u001b[0;34m.\u001b[0m\u001b[0mupdate\u001b[0m\u001b[0;34m(\u001b[0m\u001b[0msettings\u001b[0m\u001b[0;34m)\u001b[0m\u001b[0;34m\u001b[0m\u001b[0m\n\u001b[0;32m--> 468\u001b[0;31m         \u001b[0mresp\u001b[0m \u001b[0;34m=\u001b[0m \u001b[0mself\u001b[0m\u001b[0;34m.\u001b[0m\u001b[0msend\u001b[0m\u001b[0;34m(\u001b[0m\u001b[0mprep\u001b[0m\u001b[0;34m,\u001b[0m \u001b[0;34m**\u001b[0m\u001b[0msend_kwargs\u001b[0m\u001b[0;34m)\u001b[0m\u001b[0;34m\u001b[0m\u001b[0m\n\u001b[0m\u001b[1;32m    469\u001b[0m \u001b[0;34m\u001b[0m\u001b[0m\n\u001b[1;32m    470\u001b[0m         \u001b[0;32mreturn\u001b[0m \u001b[0mresp\u001b[0m\u001b[0;34m\u001b[0m\u001b[0m\n",
      "\u001b[0;32m/Users/Aaron.Z/anaconda/lib/python2.7/site-packages/requests/sessions.pyc\u001b[0m in \u001b[0;36msend\u001b[0;34m(self, request, **kwargs)\u001b[0m\n\u001b[1;32m    574\u001b[0m \u001b[0;34m\u001b[0m\u001b[0m\n\u001b[1;32m    575\u001b[0m         \u001b[0;31m# Send the request\u001b[0m\u001b[0;34m\u001b[0m\u001b[0;34m\u001b[0m\u001b[0m\n\u001b[0;32m--> 576\u001b[0;31m         \u001b[0mr\u001b[0m \u001b[0;34m=\u001b[0m \u001b[0madapter\u001b[0m\u001b[0;34m.\u001b[0m\u001b[0msend\u001b[0m\u001b[0;34m(\u001b[0m\u001b[0mrequest\u001b[0m\u001b[0;34m,\u001b[0m \u001b[0;34m**\u001b[0m\u001b[0mkwargs\u001b[0m\u001b[0;34m)\u001b[0m\u001b[0;34m\u001b[0m\u001b[0m\n\u001b[0m\u001b[1;32m    577\u001b[0m \u001b[0;34m\u001b[0m\u001b[0m\n\u001b[1;32m    578\u001b[0m         \u001b[0;31m# Total elapsed time of the request (approximately)\u001b[0m\u001b[0;34m\u001b[0m\u001b[0;34m\u001b[0m\u001b[0m\n",
      "\u001b[0;32m/Users/Aaron.Z/anaconda/lib/python2.7/site-packages/requests/adapters.pyc\u001b[0m in \u001b[0;36msend\u001b[0;34m(self, request, stream, timeout, verify, cert, proxies)\u001b[0m\n\u001b[1;32m    374\u001b[0m                     \u001b[0mdecode_content\u001b[0m\u001b[0;34m=\u001b[0m\u001b[0mFalse\u001b[0m\u001b[0;34m,\u001b[0m\u001b[0;34m\u001b[0m\u001b[0m\n\u001b[1;32m    375\u001b[0m                     \u001b[0mretries\u001b[0m\u001b[0;34m=\u001b[0m\u001b[0mself\u001b[0m\u001b[0;34m.\u001b[0m\u001b[0mmax_retries\u001b[0m\u001b[0;34m,\u001b[0m\u001b[0;34m\u001b[0m\u001b[0m\n\u001b[0;32m--> 376\u001b[0;31m                     \u001b[0mtimeout\u001b[0m\u001b[0;34m=\u001b[0m\u001b[0mtimeout\u001b[0m\u001b[0;34m\u001b[0m\u001b[0m\n\u001b[0m\u001b[1;32m    377\u001b[0m                 )\n\u001b[1;32m    378\u001b[0m \u001b[0;34m\u001b[0m\u001b[0m\n",
      "\u001b[0;32m/Users/Aaron.Z/anaconda/lib/python2.7/site-packages/requests/packages/urllib3/connectionpool.pyc\u001b[0m in \u001b[0;36murlopen\u001b[0;34m(self, method, url, body, headers, retries, redirect, assert_same_host, timeout, pool_timeout, release_conn, **response_kw)\u001b[0m\n\u001b[1;32m    557\u001b[0m             httplib_response = self._make_request(conn, method, url,\n\u001b[1;32m    558\u001b[0m                                                   \u001b[0mtimeout\u001b[0m\u001b[0;34m=\u001b[0m\u001b[0mtimeout_obj\u001b[0m\u001b[0;34m,\u001b[0m\u001b[0;34m\u001b[0m\u001b[0m\n\u001b[0;32m--> 559\u001b[0;31m                                                   body=body, headers=headers)\n\u001b[0m\u001b[1;32m    560\u001b[0m \u001b[0;34m\u001b[0m\u001b[0m\n\u001b[1;32m    561\u001b[0m             \u001b[0;31m# If we're going to release the connection in ``finally:``, then\u001b[0m\u001b[0;34m\u001b[0m\u001b[0;34m\u001b[0m\u001b[0m\n",
      "\u001b[0;32m/Users/Aaron.Z/anaconda/lib/python2.7/site-packages/requests/packages/urllib3/connectionpool.pyc\u001b[0m in \u001b[0;36m_make_request\u001b[0;34m(self, conn, method, url, timeout, **httplib_request_kw)\u001b[0m\n\u001b[1;32m    351\u001b[0m         \u001b[0;31m# conn.request() calls httplib.*.request, not the method in\u001b[0m\u001b[0;34m\u001b[0m\u001b[0;34m\u001b[0m\u001b[0m\n\u001b[1;32m    352\u001b[0m         \u001b[0;31m# urllib3.request. It also calls makefile (recv) on the socket.\u001b[0m\u001b[0;34m\u001b[0m\u001b[0;34m\u001b[0m\u001b[0m\n\u001b[0;32m--> 353\u001b[0;31m         \u001b[0mconn\u001b[0m\u001b[0;34m.\u001b[0m\u001b[0mrequest\u001b[0m\u001b[0;34m(\u001b[0m\u001b[0mmethod\u001b[0m\u001b[0;34m,\u001b[0m \u001b[0murl\u001b[0m\u001b[0;34m,\u001b[0m \u001b[0;34m**\u001b[0m\u001b[0mhttplib_request_kw\u001b[0m\u001b[0;34m)\u001b[0m\u001b[0;34m\u001b[0m\u001b[0m\n\u001b[0m\u001b[1;32m    354\u001b[0m \u001b[0;34m\u001b[0m\u001b[0m\n\u001b[1;32m    355\u001b[0m         \u001b[0;31m# Reset the timeout for the recv() on the socket\u001b[0m\u001b[0;34m\u001b[0m\u001b[0;34m\u001b[0m\u001b[0m\n",
      "\u001b[0;32m/Users/Aaron.Z/anaconda/lib/python2.7/httplib.pyc\u001b[0m in \u001b[0;36mrequest\u001b[0;34m(self, method, url, body, headers)\u001b[0m\n\u001b[1;32m   1055\u001b[0m     \u001b[0;32mdef\u001b[0m \u001b[0mrequest\u001b[0m\u001b[0;34m(\u001b[0m\u001b[0mself\u001b[0m\u001b[0;34m,\u001b[0m \u001b[0mmethod\u001b[0m\u001b[0;34m,\u001b[0m \u001b[0murl\u001b[0m\u001b[0;34m,\u001b[0m \u001b[0mbody\u001b[0m\u001b[0;34m=\u001b[0m\u001b[0mNone\u001b[0m\u001b[0;34m,\u001b[0m \u001b[0mheaders\u001b[0m\u001b[0;34m=\u001b[0m\u001b[0;34m{\u001b[0m\u001b[0;34m}\u001b[0m\u001b[0;34m)\u001b[0m\u001b[0;34m:\u001b[0m\u001b[0;34m\u001b[0m\u001b[0m\n\u001b[1;32m   1056\u001b[0m         \u001b[0;34m\"\"\"Send a complete request to the server.\"\"\"\u001b[0m\u001b[0;34m\u001b[0m\u001b[0m\n\u001b[0;32m-> 1057\u001b[0;31m         \u001b[0mself\u001b[0m\u001b[0;34m.\u001b[0m\u001b[0m_send_request\u001b[0m\u001b[0;34m(\u001b[0m\u001b[0mmethod\u001b[0m\u001b[0;34m,\u001b[0m \u001b[0murl\u001b[0m\u001b[0;34m,\u001b[0m \u001b[0mbody\u001b[0m\u001b[0;34m,\u001b[0m \u001b[0mheaders\u001b[0m\u001b[0;34m)\u001b[0m\u001b[0;34m\u001b[0m\u001b[0m\n\u001b[0m\u001b[1;32m   1058\u001b[0m \u001b[0;34m\u001b[0m\u001b[0m\n\u001b[1;32m   1059\u001b[0m     \u001b[0;32mdef\u001b[0m \u001b[0m_set_content_length\u001b[0m\u001b[0;34m(\u001b[0m\u001b[0mself\u001b[0m\u001b[0;34m,\u001b[0m \u001b[0mbody\u001b[0m\u001b[0;34m,\u001b[0m \u001b[0mmethod\u001b[0m\u001b[0;34m)\u001b[0m\u001b[0;34m:\u001b[0m\u001b[0;34m\u001b[0m\u001b[0m\n",
      "\u001b[0;32m/Users/Aaron.Z/anaconda/lib/python2.7/httplib.pyc\u001b[0m in \u001b[0;36m_send_request\u001b[0;34m(self, method, url, body, headers)\u001b[0m\n\u001b[1;32m   1095\u001b[0m         \u001b[0;32mfor\u001b[0m \u001b[0mhdr\u001b[0m\u001b[0;34m,\u001b[0m \u001b[0mvalue\u001b[0m \u001b[0;32min\u001b[0m \u001b[0mheaders\u001b[0m\u001b[0;34m.\u001b[0m\u001b[0miteritems\u001b[0m\u001b[0;34m(\u001b[0m\u001b[0;34m)\u001b[0m\u001b[0;34m:\u001b[0m\u001b[0;34m\u001b[0m\u001b[0m\n\u001b[1;32m   1096\u001b[0m             \u001b[0mself\u001b[0m\u001b[0;34m.\u001b[0m\u001b[0mputheader\u001b[0m\u001b[0;34m(\u001b[0m\u001b[0mhdr\u001b[0m\u001b[0;34m,\u001b[0m \u001b[0mvalue\u001b[0m\u001b[0;34m)\u001b[0m\u001b[0;34m\u001b[0m\u001b[0m\n\u001b[0;32m-> 1097\u001b[0;31m         \u001b[0mself\u001b[0m\u001b[0;34m.\u001b[0m\u001b[0mendheaders\u001b[0m\u001b[0;34m(\u001b[0m\u001b[0mbody\u001b[0m\u001b[0;34m)\u001b[0m\u001b[0;34m\u001b[0m\u001b[0m\n\u001b[0m\u001b[1;32m   1098\u001b[0m \u001b[0;34m\u001b[0m\u001b[0m\n\u001b[1;32m   1099\u001b[0m     \u001b[0;32mdef\u001b[0m \u001b[0mgetresponse\u001b[0m\u001b[0;34m(\u001b[0m\u001b[0mself\u001b[0m\u001b[0;34m,\u001b[0m \u001b[0mbuffering\u001b[0m\u001b[0;34m=\u001b[0m\u001b[0mFalse\u001b[0m\u001b[0;34m)\u001b[0m\u001b[0;34m:\u001b[0m\u001b[0;34m\u001b[0m\u001b[0m\n",
      "\u001b[0;32m/Users/Aaron.Z/anaconda/lib/python2.7/httplib.pyc\u001b[0m in \u001b[0;36mendheaders\u001b[0;34m(self, message_body)\u001b[0m\n\u001b[1;32m   1051\u001b[0m         \u001b[0;32melse\u001b[0m\u001b[0;34m:\u001b[0m\u001b[0;34m\u001b[0m\u001b[0m\n\u001b[1;32m   1052\u001b[0m             \u001b[0;32mraise\u001b[0m \u001b[0mCannotSendHeader\u001b[0m\u001b[0;34m(\u001b[0m\u001b[0;34m)\u001b[0m\u001b[0;34m\u001b[0m\u001b[0m\n\u001b[0;32m-> 1053\u001b[0;31m         \u001b[0mself\u001b[0m\u001b[0;34m.\u001b[0m\u001b[0m_send_output\u001b[0m\u001b[0;34m(\u001b[0m\u001b[0mmessage_body\u001b[0m\u001b[0;34m)\u001b[0m\u001b[0;34m\u001b[0m\u001b[0m\n\u001b[0m\u001b[1;32m   1054\u001b[0m \u001b[0;34m\u001b[0m\u001b[0m\n\u001b[1;32m   1055\u001b[0m     \u001b[0;32mdef\u001b[0m \u001b[0mrequest\u001b[0m\u001b[0;34m(\u001b[0m\u001b[0mself\u001b[0m\u001b[0;34m,\u001b[0m \u001b[0mmethod\u001b[0m\u001b[0;34m,\u001b[0m \u001b[0murl\u001b[0m\u001b[0;34m,\u001b[0m \u001b[0mbody\u001b[0m\u001b[0;34m=\u001b[0m\u001b[0mNone\u001b[0m\u001b[0;34m,\u001b[0m \u001b[0mheaders\u001b[0m\u001b[0;34m=\u001b[0m\u001b[0;34m{\u001b[0m\u001b[0;34m}\u001b[0m\u001b[0;34m)\u001b[0m\u001b[0;34m:\u001b[0m\u001b[0;34m\u001b[0m\u001b[0m\n",
      "\u001b[0;32m/Users/Aaron.Z/anaconda/lib/python2.7/httplib.pyc\u001b[0m in \u001b[0;36m_send_output\u001b[0;34m(self, message_body)\u001b[0m\n\u001b[1;32m    895\u001b[0m             \u001b[0mmsg\u001b[0m \u001b[0;34m+=\u001b[0m \u001b[0mmessage_body\u001b[0m\u001b[0;34m\u001b[0m\u001b[0m\n\u001b[1;32m    896\u001b[0m             \u001b[0mmessage_body\u001b[0m \u001b[0;34m=\u001b[0m \u001b[0mNone\u001b[0m\u001b[0;34m\u001b[0m\u001b[0m\n\u001b[0;32m--> 897\u001b[0;31m         \u001b[0mself\u001b[0m\u001b[0;34m.\u001b[0m\u001b[0msend\u001b[0m\u001b[0;34m(\u001b[0m\u001b[0mmsg\u001b[0m\u001b[0;34m)\u001b[0m\u001b[0;34m\u001b[0m\u001b[0m\n\u001b[0m\u001b[1;32m    898\u001b[0m         \u001b[0;32mif\u001b[0m \u001b[0mmessage_body\u001b[0m \u001b[0;32mis\u001b[0m \u001b[0;32mnot\u001b[0m \u001b[0mNone\u001b[0m\u001b[0;34m:\u001b[0m\u001b[0;34m\u001b[0m\u001b[0m\n\u001b[1;32m    899\u001b[0m             \u001b[0;31m#message_body was not a string (i.e. it is a file) and\u001b[0m\u001b[0;34m\u001b[0m\u001b[0;34m\u001b[0m\u001b[0m\n",
      "\u001b[0;32m/Users/Aaron.Z/anaconda/lib/python2.7/httplib.pyc\u001b[0m in \u001b[0;36msend\u001b[0;34m(self, data)\u001b[0m\n\u001b[1;32m    857\u001b[0m         \u001b[0;32mif\u001b[0m \u001b[0mself\u001b[0m\u001b[0;34m.\u001b[0m\u001b[0msock\u001b[0m \u001b[0;32mis\u001b[0m \u001b[0mNone\u001b[0m\u001b[0;34m:\u001b[0m\u001b[0;34m\u001b[0m\u001b[0m\n\u001b[1;32m    858\u001b[0m             \u001b[0;32mif\u001b[0m \u001b[0mself\u001b[0m\u001b[0;34m.\u001b[0m\u001b[0mauto_open\u001b[0m\u001b[0;34m:\u001b[0m\u001b[0;34m\u001b[0m\u001b[0m\n\u001b[0;32m--> 859\u001b[0;31m                 \u001b[0mself\u001b[0m\u001b[0;34m.\u001b[0m\u001b[0mconnect\u001b[0m\u001b[0;34m(\u001b[0m\u001b[0;34m)\u001b[0m\u001b[0;34m\u001b[0m\u001b[0m\n\u001b[0m\u001b[1;32m    860\u001b[0m             \u001b[0;32melse\u001b[0m\u001b[0;34m:\u001b[0m\u001b[0;34m\u001b[0m\u001b[0m\n\u001b[1;32m    861\u001b[0m                 \u001b[0;32mraise\u001b[0m \u001b[0mNotConnected\u001b[0m\u001b[0;34m(\u001b[0m\u001b[0;34m)\u001b[0m\u001b[0;34m\u001b[0m\u001b[0m\n",
      "\u001b[0;32m/Users/Aaron.Z/anaconda/lib/python2.7/site-packages/requests/packages/urllib3/connection.pyc\u001b[0m in \u001b[0;36mconnect\u001b[0;34m(self)\u001b[0m\n\u001b[1;32m    160\u001b[0m \u001b[0;34m\u001b[0m\u001b[0m\n\u001b[1;32m    161\u001b[0m     \u001b[0;32mdef\u001b[0m \u001b[0mconnect\u001b[0m\u001b[0;34m(\u001b[0m\u001b[0mself\u001b[0m\u001b[0;34m)\u001b[0m\u001b[0;34m:\u001b[0m\u001b[0;34m\u001b[0m\u001b[0m\n\u001b[0;32m--> 162\u001b[0;31m         \u001b[0mconn\u001b[0m \u001b[0;34m=\u001b[0m \u001b[0mself\u001b[0m\u001b[0;34m.\u001b[0m\u001b[0m_new_conn\u001b[0m\u001b[0;34m(\u001b[0m\u001b[0;34m)\u001b[0m\u001b[0;34m\u001b[0m\u001b[0m\n\u001b[0m\u001b[1;32m    163\u001b[0m         \u001b[0mself\u001b[0m\u001b[0;34m.\u001b[0m\u001b[0m_prepare_conn\u001b[0m\u001b[0;34m(\u001b[0m\u001b[0mconn\u001b[0m\u001b[0;34m)\u001b[0m\u001b[0;34m\u001b[0m\u001b[0m\n\u001b[1;32m    164\u001b[0m \u001b[0;34m\u001b[0m\u001b[0m\n",
      "\u001b[0;32m/Users/Aaron.Z/anaconda/lib/python2.7/site-packages/requests/packages/urllib3/connection.pyc\u001b[0m in \u001b[0;36m_new_conn\u001b[0;34m(self)\u001b[0m\n\u001b[1;32m    135\u001b[0m         \u001b[0;32mtry\u001b[0m\u001b[0;34m:\u001b[0m\u001b[0;34m\u001b[0m\u001b[0m\n\u001b[1;32m    136\u001b[0m             conn = connection.create_connection(\n\u001b[0;32m--> 137\u001b[0;31m                 (self.host, self.port), self.timeout, **extra_kw)\n\u001b[0m\u001b[1;32m    138\u001b[0m \u001b[0;34m\u001b[0m\u001b[0m\n\u001b[1;32m    139\u001b[0m         \u001b[0;32mexcept\u001b[0m \u001b[0mSocketTimeout\u001b[0m \u001b[0;32mas\u001b[0m \u001b[0me\u001b[0m\u001b[0;34m:\u001b[0m\u001b[0;34m\u001b[0m\u001b[0m\n",
      "\u001b[0;32m/Users/Aaron.Z/anaconda/lib/python2.7/site-packages/requests/packages/urllib3/util/connection.pyc\u001b[0m in \u001b[0;36mcreate_connection\u001b[0;34m(address, timeout, source_address, socket_options)\u001b[0m\n\u001b[1;32m     79\u001b[0m             \u001b[0;32mif\u001b[0m \u001b[0msource_address\u001b[0m\u001b[0;34m:\u001b[0m\u001b[0;34m\u001b[0m\u001b[0m\n\u001b[1;32m     80\u001b[0m                 \u001b[0msock\u001b[0m\u001b[0;34m.\u001b[0m\u001b[0mbind\u001b[0m\u001b[0;34m(\u001b[0m\u001b[0msource_address\u001b[0m\u001b[0;34m)\u001b[0m\u001b[0;34m\u001b[0m\u001b[0m\n\u001b[0;32m---> 81\u001b[0;31m             \u001b[0msock\u001b[0m\u001b[0;34m.\u001b[0m\u001b[0mconnect\u001b[0m\u001b[0;34m(\u001b[0m\u001b[0msa\u001b[0m\u001b[0;34m)\u001b[0m\u001b[0;34m\u001b[0m\u001b[0m\n\u001b[0m\u001b[1;32m     82\u001b[0m             \u001b[0;32mreturn\u001b[0m \u001b[0msock\u001b[0m\u001b[0;34m\u001b[0m\u001b[0m\n\u001b[1;32m     83\u001b[0m \u001b[0;34m\u001b[0m\u001b[0m\n",
      "\u001b[0;32m/Users/Aaron.Z/anaconda/lib/python2.7/socket.pyc\u001b[0m in \u001b[0;36mmeth\u001b[0;34m(name, self, *args)\u001b[0m\n\u001b[1;32m    226\u001b[0m \u001b[0;34m\u001b[0m\u001b[0m\n\u001b[1;32m    227\u001b[0m \u001b[0;32mdef\u001b[0m \u001b[0mmeth\u001b[0m\u001b[0;34m(\u001b[0m\u001b[0mname\u001b[0m\u001b[0;34m,\u001b[0m\u001b[0mself\u001b[0m\u001b[0;34m,\u001b[0m\u001b[0;34m*\u001b[0m\u001b[0margs\u001b[0m\u001b[0;34m)\u001b[0m\u001b[0;34m:\u001b[0m\u001b[0;34m\u001b[0m\u001b[0m\n\u001b[0;32m--> 228\u001b[0;31m     \u001b[0;32mreturn\u001b[0m \u001b[0mgetattr\u001b[0m\u001b[0;34m(\u001b[0m\u001b[0mself\u001b[0m\u001b[0;34m.\u001b[0m\u001b[0m_sock\u001b[0m\u001b[0;34m,\u001b[0m\u001b[0mname\u001b[0m\u001b[0;34m)\u001b[0m\u001b[0;34m(\u001b[0m\u001b[0;34m*\u001b[0m\u001b[0margs\u001b[0m\u001b[0;34m)\u001b[0m\u001b[0;34m\u001b[0m\u001b[0m\n\u001b[0m\u001b[1;32m    229\u001b[0m \u001b[0;34m\u001b[0m\u001b[0m\n\u001b[1;32m    230\u001b[0m \u001b[0;32mfor\u001b[0m \u001b[0m_m\u001b[0m \u001b[0;32min\u001b[0m \u001b[0m_socketmethods\u001b[0m\u001b[0;34m:\u001b[0m\u001b[0;34m\u001b[0m\u001b[0m\n",
      "\u001b[0;31mKeyboardInterrupt\u001b[0m: "
     ]
    }
   ],
   "source": [
    "from collections import defaultdict\n",
    "\n",
    "subtitle_urls = defaultdict(list)\n",
    "errors = {}\n",
    "for i, link in enumerate(shows):\n",
    "    try:\n",
    "        if i % 10 == 9:\n",
    "            session = requests.session()\n",
    "        show_url = BASE_URL + link\n",
    "        response = session.get(show_url)\n",
    "        response.raise_for_status()\n",
    "        result = re.findall('<td><nobr><a href=\"(subtitle[\\d\\-]*?-en\\.html)\"', response.content)\n",
    "        \n",
    "        season_links = []\n",
    "        if result:\n",
    "            subtitle_urls[link].append(result[-1])\n",
    "\n",
    "            # Find all seasons.\n",
    "            season_links = re.findall(r'<a href=\"(tvshow[\\d\\-]*?\\.html)\"><b>Season \\d+</b></a>', response.content)\n",
    "            for sl in season_links:\n",
    "                season_url = BASE_URL + sl\n",
    "                response = session.get(season_url)\n",
    "                response.raise_for_status()\n",
    "                result = re.findall('<td><nobr><a href=\"(subtitle[\\d\\-]*?-en\\.html)\"', response.content)\n",
    "                if result:\n",
    "                    subtitle_urls[link].append(result[-1])\n",
    "\n",
    "        print(i, link, '\\t(%s) for (%s)seasons.' % (len(subtitle_urls[link]), len(season_links)+1))\n",
    "    except Exception as e:\n",
    "        errors[link] = e\n",
    "        print(i, link, '\\t'+e.message)"
   ]
  },
  {
   "cell_type": "code",
   "execution_count": 3,
   "metadata": {
    "collapsed": false
   },
   "outputs": [
    {
     "name": "stdout",
     "output_type": "stream",
     "text": [
      "{\n",
      "  \"tvshow-1567-1.html\": [\n",
      "    \"subtitle-1567-1-en.html\"\n",
      "  ], \n",
      "  \"tvshow-739-2.html\": [], \n",
      "  \"tvshow-616-4.html\": [], \n",
      "  \"tvshow-1075-3.html\": [], \n",
      "  \"tvshow-993-1.html\": [\n",
      "    \"subtitle-993-1-en.html\"\n",
      "  ], \n",
      "  \"tvshow-451-1.html\": [\n",
      "    \"subtitle-451-1-en.html\"\n",
      "  ], \n",
      "  \"tvshow-361-4.html\": [\n",
      "    \"subtitle-361-4-en.html\", \n",
      "    \"subtitle-361-3-en.html\", \n",
      "    \"subtitle-361-2-en.html\", \n",
      "    \"subtitle-361-1-en.html\"\n",
      "  ], \n",
      "  \"tvshow-38-9.html\": [\n",
      "    \"subtitle-38-9-en.html\", \n",
      "    \"subtitle-38-8-en.html\", \n",
      "    \"subtitle-38-7-en.html\", \n",
      "    \"subtitle-38-6-en.html\", \n",
      "    \"subtitle-38-5-en.html\", \n",
      "    \"subtitle-38-4-en.html\", \n",
      "    \"subtitle-38-3-en.html\", \n",
      "    \"subtitle-38-2-en.html\", \n",
      "    \"subtitle-38-1-en.html\"\n",
      "  ], \n",
      "  \"tvshow-1205-1.html\": [\n",
      "    \"subtitle-1205-1-en.html\"\n",
      "  ], \n",
      "  \"tvshow-537-8.html\": [], \n",
      "  \"tvshow-1655-1.html\": [\n",
      "    \"subtitle-1655-1-en.html\"\n",
      "  ], \n",
      "  \"tvshow-899-2.html\": [], \n",
      "  \"tvshow-1110-1.html\": [\n",
      "    \"subtitle-1110-1-en.html\"\n",
      "  ], \n",
      "  \"tvshow-46-7.html\": [\n",
      "    \"subtitle-46-7-en.html\", \n",
      "    \"subtitle-46-6-en.html\", \n",
      "    \"subtitle-46-5-en.html\", \n",
      "    \"subtitle-46-4-en.html\", \n",
      "    \"subtitle-46-3-en.html\", \n",
      "    \"subtitle-46-2-en.html\", \n",
      "    \"subtitle-46-1-en.html\"\n",
      "  ], \n",
      "  \"tvshow-1219-6.html\": [], \n",
      "  \"tvshow-313-1.html\": [], \n",
      "  \"tvshow-500-2.html\": [\n",
      "    \"subtitle-500-2-en.html\", \n",
      "    \"subtitle-500-1-en.html\"\n",
      "  ], \n",
      "  \"tvshow-1034-6.html\": [], \n",
      "  \"tvshow-1462-4.html\": [\n",
      "    \"subtitle-1462-4-en.html\", \n",
      "    \"subtitle-1462-1-en.html\"\n",
      "  ], \n",
      "  \"tvshow-992-13.html\": [], \n",
      "  \"tvshow-642-3.html\": [], \n",
      "  \"tvshow-875-3.html\": [], \n",
      "  \"tvshow-1092-14.html\": [], \n",
      "  \"tvshow-244-5.html\": [\n",
      "    \"subtitle-244-5-en.html\", \n",
      "    \"subtitle-244-4-en.html\", \n",
      "    \"subtitle-244-3-en.html\", \n",
      "    \"subtitle-244-2-en.html\", \n",
      "    \"subtitle-244-1-en.html\"\n",
      "  ], \n",
      "  \"tvshow-508-1.html\": [\n",
      "    \"subtitle-508-1-en.html\"\n",
      "  ], \n",
      "  \"tvshow-1229-1.html\": [\n",
      "    \"subtitle-1229-1-en.html\"\n",
      "  ], \n",
      "  \"tvshow-1729-1.html\": [\n",
      "    \"subtitle-1729-1-en.html\"\n",
      "  ], \n",
      "  \"tvshow-1038-1.html\": [\n",
      "    \"subtitle-1038-1-en.html\"\n",
      "  ], \n",
      "  \"tvshow-1896-1.html\": [\n",
      "    \"subtitle-1896-1-en.html\"\n",
      "  ], \n",
      "  \"tvshow-943-1.html\": [], \n",
      "  \"tvshow-1437-2.html\": [\n",
      "    \"subtitle-1437-2-en.html\", \n",
      "    \"subtitle-1437-1-en.html\"\n",
      "  ], \n",
      "  \"tvshow-613-6.html\": [\n",
      "    \"subtitle-613-6-en.html\", \n",
      "    \"subtitle-613-5-en.html\", \n",
      "    \"subtitle-613-4-en.html\", \n",
      "    \"subtitle-613-3-en.html\", \n",
      "    \"subtitle-613-2-en.html\", \n",
      "    \"subtitle-613-1-en.html\"\n",
      "  ], \n",
      "  \"tvshow-823-2.html\": [\n",
      "    \"subtitle-823-2-en.html\", \n",
      "    \"subtitle-823-1-en.html\"\n",
      "  ], \n",
      "  \"tvshow-985-5.html\": [\n",
      "    \"subtitle-985-5-en.html\", \n",
      "    \"subtitle-985-4-en.html\", \n",
      "    \"subtitle-985-3-en.html\", \n",
      "    \"subtitle-985-2-en.html\", \n",
      "    \"subtitle-985-1-en.html\"\n",
      "  ], \n",
      "  \"tvshow-419-11.html\": [], \n",
      "  \"tvshow-634-10.html\": [], \n",
      "  \"tvshow-1769-1.html\": [], \n",
      "  \"tvshow-1938-1.html\": [\n",
      "    \"subtitle-1938-1-en.html\"\n",
      "  ], \n",
      "  \"tvshow-200-2.html\": [], \n",
      "  \"tvshow-1226-1.html\": [\n",
      "    \"subtitle-1226-1-en.html\"\n",
      "  ], \n",
      "  \"tvshow-340-4.html\": [\n",
      "    \"subtitle-340-4-en.html\", \n",
      "    \"subtitle-340-3-en.html\", \n",
      "    \"subtitle-340-2-en.html\"\n",
      "  ], \n",
      "  \"tvshow-271-1.html\": [\n",
      "    \"subtitle-271-1-en.html\"\n",
      "  ], \n",
      "  \"tvshow-486-1.html\": [\n",
      "    \"subtitle-486-1-en.html\"\n",
      "  ], \n",
      "  \"tvshow-1311-7.html\": [], \n",
      "  \"tvshow-700-1.html\": [\n",
      "    \"subtitle-700-1-en.html\"\n",
      "  ], \n",
      "  \"tvshow-955-1.html\": [\n",
      "    \"subtitle-955-1-en.html\"\n",
      "  ], \n",
      "  \"tvshow-1171-2.html\": [], \n",
      "  \"tvshow-653-6.html\": []\n",
      "}\n"
     ]
    }
   ],
   "source": [
    "import json\n",
    "print(json.dumps(subtitle_urls, indent=2))"
   ]
  },
  {
   "cell_type": "code",
   "execution_count": 4,
   "metadata": {
    "collapsed": false
   },
   "outputs": [],
   "source": [
    "with open('subtitle_urls.json', 'w') as f:\n",
    "    f.write(json.dumps(subtitle_urls, indent=2))"
   ]
  },
  {
   "cell_type": "code",
   "execution_count": 5,
   "metadata": {
    "collapsed": false
   },
   "outputs": [],
   "source": [
    "import logging\n",
    "logger = logging.getLogger()\n",
    "fhandler = logging.FileHandler(filename='tvsub.log', mode='a')\n",
    "formatter = logging.Formatter('%(asctime)s - %(name)s - %(levelname)s - %(message)s')\n",
    "fhandler.setFormatter(formatter)\n",
    "logger.addHandler(fhandler)\n",
    "logger.setLevel(logging.INFO)\n",
    "logging.getLogger(\"requests\").setLevel(logging.WARNING)\n"
   ]
  },
  {
   "cell_type": "code",
   "execution_count": 6,
   "metadata": {
    "collapsed": false
   },
   "outputs": [],
   "source": [
    "for i, (key, urls) in enumerate(subtitle_urls.iteritems()):\n",
    "    if i<1235:\n",
    "        continue\n",
    "    for url in urls:\n",
    "        try:\n",
    "            download_url = BASE_URL + url.replace('subtitle', 'download')\n",
    "            response = session.get(download_url)\n",
    "\n",
    "            response.raise_for_status()\n",
    "            assert 'application/zip' == response.headers['Content-Type']\n",
    "\n",
    "            fname = url.replace('subtitle-', '').replace('.html', '.zip')\n",
    "            with open('/Volumes/HDD/CS4300/tvsubtitles/' + fname, 'w') as f:\n",
    "                for block in response.iter_content(16384):\n",
    "                    f.write(block)\n",
    "        except Exception as e:\n",
    "            logger.exception(e)\n",
    "    logger.info('%d %s' % (i, key))"
   ]
  },
  {
   "cell_type": "code",
   "execution_count": 7,
   "metadata": {
    "collapsed": false
   },
   "outputs": [
    {
     "data": {
      "text/plain": [
       "'text/html; charset=utf-8'"
      ]
     },
     "execution_count": 7,
     "metadata": {},
     "output_type": "execute_result"
    }
   ],
   "source": [
    "response.headers['Content-Type']"
   ]
  },
  {
   "cell_type": "code",
   "execution_count": null,
   "metadata": {
    "collapsed": false
   },
   "outputs": [],
   "source": []
  }
 ],
 "metadata": {
  "kernelspec": {
   "display_name": "Python 2",
   "language": "python",
   "name": "python2"
  },
  "language_info": {
   "codemirror_mode": {
    "name": "ipython",
    "version": 2
   },
   "file_extension": ".py",
   "mimetype": "text/x-python",
   "name": "python",
   "nbconvert_exporter": "python",
   "pygments_lexer": "ipython2",
   "version": "2.7.11"
  }
 },
 "nbformat": 4,
 "nbformat_minor": 0
}
