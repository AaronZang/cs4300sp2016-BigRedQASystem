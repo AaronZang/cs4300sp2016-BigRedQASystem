{
 "metadata": {
  "name": "",
  "signature": "sha256:8a5afcb2f6ca884a4086a2f3d29ac00f833419a6779e2d1d2723558c003a5baa"
 },
 "nbformat": 3,
 "nbformat_minor": 0,
 "worksheets": [
  {
   "cells": [
    {
     "cell_type": "code",
     "collapsed": false,
     "input": [
      "from __future__ import print_function\n",
      "import requests\n",
      "import re\n",
      "session = requests.session()\n",
      "\n",
      "# movie_lists = ['http://www.moviesubtitles.org/movies.html'] + \\\n",
      "#               ['http://www.moviesubtitles.org/movies_%s.html' % chr(c) for c in xrange(66, 91)] + \\\n",
      "#               ['http://www.moviesubtitles.org/movies_#.html']\n",
      "\n",
      "BASE_URL = 'http://www.tvsubtitles.net/'\n",
      "TV_LIST = 'http://www.tvsubtitles.net/tvshows.html'\n",
      "response = session.get(TV_LIST)\n",
      "response.raise_for_status()\n",
      "\n",
      "tvlist_content = response.content\n",
      "shows = re.findall(r'<a href=\"(tvshow-.*?\\.html)\"', tvlist_content)\n",
      "print('number of tv series:', len(shows))"
     ],
     "language": "python",
     "metadata": {},
     "outputs": [
      {
       "output_type": "stream",
       "stream": "stdout",
       "text": [
        "number of tv series: 1777\n"
       ]
      }
     ],
     "prompt_number": 4
    },
    {
     "cell_type": "code",
     "collapsed": false,
     "input": [
      "from collections import defaultdict\n",
      "\n",
      "subtitle_urls = defaultdict(list)\n",
      "errors = {}\n",
      "for i, link in enumerate(shows):\n",
      "    try:\n",
      "        if i % 10 == 9:\n",
      "            session = requests.session()\n",
      "        show_url = BASE_URL + link\n",
      "        response = session.get(show_url)\n",
      "        response.raise_for_status()\n",
      "        result = re.findall('<td><nobr><a href=\"(subtitle[\\d\\-]*?-en\\.html)\"', response.content)\n",
      "        \n",
      "        season_links = []\n",
      "        if result:\n",
      "            subtitle_urls[link].append(result[-1])\n",
      "\n",
      "            # Find all seasons.\n",
      "            season_links = re.findall(r'<a href=\"(tvshow[\\d\\-]*?\\.html)\"><b>Season \\d+</b></a>', response.content)\n",
      "            for sl in season_links:\n",
      "                season_url = BASE_URL + sl\n",
      "                response = session.get(season_url)\n",
      "                response.raise_for_status()\n",
      "                result = re.findall('<td><nobr><a href=\"(subtitle[\\d\\-]*?-en\\.html)\"', response.content)\n",
      "                if result:\n",
      "                    subtitle_urls[link].append(result[-1])\n",
      "\n",
      "        print(i, link, '\\t(%s) for (%s)seasons.' % (len(subtitle_urls[link]), len(season_links)+1))\n",
      "    except Exception as e:\n",
      "        errors[link] = e\n",
      "        print(i, link, '\\t'+e.message)"
     ],
     "language": "python",
     "metadata": {},
     "outputs": [],
     "prompt_number": 29
    },
    {
     "cell_type": "code",
     "collapsed": false,
     "input": [
      "import json\n",
      "print(json.dumps(subtitle_urls, indent=2))"
     ],
     "language": "python",
     "metadata": {},
     "outputs": [
      {
       "output_type": "stream",
       "stream": "stdout",
       "text": []
      }
     ],
     "prompt_number": 27
    },
    {
     "cell_type": "code",
     "collapsed": false,
     "input": [
      "with open('subtitle_urls.json', 'w') as f:\n",
      "    f.write(json.dumps(subtitle_urls, indent=2))"
     ],
     "language": "python",
     "metadata": {},
     "outputs": [],
     "prompt_number": 30
    },
    {
     "cell_type": "code",
     "collapsed": false,
     "input": [
      "import logging\n",
      "logger = logging.getLogger()\n",
      "fhandler = logging.FileHandler(filename='tvsub.log', mode='a')\n",
      "formatter = logging.Formatter('%(asctime)s - %(name)s - %(levelname)s - %(message)s')\n",
      "fhandler.setFormatter(formatter)\n",
      "logger.addHandler(fhandler)\n",
      "logger.setLevel(logging.INFO)\n",
      "logging.getLogger(\"requests\").setLevel(logging.WARNING)\n"
     ],
     "language": "python",
     "metadata": {},
     "outputs": [],
     "prompt_number": 49
    },
    {
     "cell_type": "code",
     "collapsed": false,
     "input": [
      "for i, (key, urls) in enumerate(subtitle_urls.iteritems()):\n",
      "    if i<1235:\n",
      "        continue\n",
      "    for url in urls:\n",
      "        try:\n",
      "            download_url = BASE_URL + url.replace('subtitle', 'download')\n",
      "            response = session.get(download_url)\n",
      "\n",
      "            response.raise_for_status()\n",
      "            assert 'application/zip' == response.headers['Content-Type']\n",
      "\n",
      "            fname = url.replace('subtitle-', '').replace('.html', '.zip')\n",
      "            with open('/Volumes/HDD/CS4300/tvsubtitles/' + fname, 'w') as f:\n",
      "                for block in response.iter_content(16384):\n",
      "                    f.write(block)\n",
      "        except Exception as e:\n",
      "            logger.exception(e)\n",
      "    logger.info('%d %s' % (i, key))"
     ],
     "language": "python",
     "metadata": {},
     "outputs": []
    },
    {
     "cell_type": "code",
     "collapsed": false,
     "input": [
      "response.headers['Content-Type']"
     ],
     "language": "python",
     "metadata": {},
     "outputs": [
      {
       "metadata": {},
       "output_type": "pyout",
       "prompt_number": 44,
       "text": [
        "'application/zip'"
       ]
      }
     ],
     "prompt_number": 44
    },
    {
     "cell_type": "code",
     "collapsed": false,
     "input": [],
     "language": "python",
     "metadata": {},
     "outputs": []
    }
   ],
   "metadata": {}
  }
 ]
}