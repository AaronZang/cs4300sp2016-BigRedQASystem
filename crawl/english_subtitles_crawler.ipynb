{
 "cells": [
  {
   "cell_type": "code",
   "execution_count": 1,
   "metadata": {
    "collapsed": true
   },
   "outputs": [],
   "source": [
    "import numpy as np\n",
    "import urllib2\n",
    "import re\n",
    "import os\n",
    "import sys\n",
    "\n",
    "from bs4 import BeautifulSoup"
   ]
  },
  {
   "cell_type": "code",
   "execution_count": 2,
   "metadata": {
    "collapsed": true
   },
   "outputs": [],
   "source": [
    "ROOT_URL = 'http://www.english-subtitles.pro/'\n",
    "user_agent = 'Mozilla/5.0 (Macintosh; Intel Mac OS X 10_11_4) AppleWebKit/537.36 (KHTML, like Gecko) Chrome/49.0.2623.87 Safari/537.36'\n",
    "headers = { 'User-Agent' : user_agent }"
   ]
  },
  {
   "cell_type": "code",
   "execution_count": 8,
   "metadata": {
    "collapsed": true
   },
   "outputs": [],
   "source": [
    "def download(pageNum):\n",
    "    page_url = ROOT_URL + '/movies/by-letters/page/' + str(pageNum)\n",
    "    request = urllib2.Request(page_url, headers=headers)\n",
    "    response = urllib2.urlopen(request)\n",
    "    \n",
    "    soup = BeautifulSoup(response.read(), 'lxml')\n",
    "    \n",
    "    movie_tags = [div_tag.find('a') for div_tag in soup.find_all(\"div\", class_=\"entry-title\")]\n",
    "    movie_urls_names = [(tag['href'], tag.get_text()) for tag in movie_tags]\n",
    "    \n",
    "    success = 0\n",
    "    for url, name in movie_urls_names:\n",
    "        request = urllib2.Request(ROOT_URL + url, headers=headers)\n",
    "        response = urllib2.urlopen(request)\n",
    "        \n",
    "        soup = BeautifulSoup(response.read(), 'lxml')\n",
    "        \n",
    "        aTags = soup.find_all(title='Free download')\n",
    "        if(len(aTags) == 0): continue\n",
    "        \n",
    "        downloadTimes = [aTags[0].parent.parent.findChildren()[-2].get_text() for tag in aTags]\n",
    "        maxIdx = np.argmax(downloadTimes)\n",
    "        \n",
    "        extension = os.path.splitext(aTags[maxIdx].get_text())[1]\n",
    "        \n",
    "        request = urllib2.Request(ROOT_URL + aTags[maxIdx]['href'], headers=headers)\n",
    "        response = urllib2.urlopen(request)\n",
    "        \n",
    "        try:\n",
    "            with open('english_subtitles/' + name + extension, 'w') as f:\n",
    "                f.write(response.read())\n",
    "            success += 1\n",
    "        except:\n",
    "            e = sys.exc_info()[0]\n",
    "            print( \"<p>Error: %s</p>, %s\" % (e, name) )\n",
    "    \n",
    "    print (\"Page {} finished with {} movies.\".format(pageNum, success))"
   ]
  },
  {
   "cell_type": "code",
   "execution_count": 9,
   "metadata": {
    "collapsed": false
   },
   "outputs": [
    {
     "name": "stdout",
     "output_type": "stream",
     "text": [
      "Page 1 finished with 47 movies.\n"
     ]
    }
   ],
   "source": [
    "download(1) # Make it a loop to go over the 966 pages\n",
    "# TODO: add proxy to avoid ip block"
   ]
  },
  {
   "cell_type": "code",
   "execution_count": null,
   "metadata": {
    "collapsed": true
   },
   "outputs": [],
   "source": []
  }
 ],
 "metadata": {
  "kernelspec": {
   "display_name": "Python 2",
   "language": "python",
   "name": "python2"
  },
  "language_info": {
   "codemirror_mode": {
    "name": "ipython",
    "version": 2
   },
   "file_extension": ".py",
   "mimetype": "text/x-python",
   "name": "python",
   "nbconvert_exporter": "python",
   "pygments_lexer": "ipython2",
   "version": "2.7.11"
  }
 },
 "nbformat": 4,
 "nbformat_minor": 0
}
