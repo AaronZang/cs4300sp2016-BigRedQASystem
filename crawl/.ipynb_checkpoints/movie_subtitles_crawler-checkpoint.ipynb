{
 "cells": [
  {
   "cell_type": "code",
   "execution_count": 78,
   "metadata": {
    "collapsed": true
   },
   "outputs": [],
   "source": [
    "import numpy as np\n",
    "import urllib2\n",
    "import random\n",
    "import re\n",
    "import os\n",
    "import sys\n",
    "\n",
    "import bs4\n",
    "from bs4 import BeautifulSoup"
   ]
  },
  {
   "cell_type": "code",
   "execution_count": 79,
   "metadata": {
    "collapsed": true
   },
   "outputs": [],
   "source": [
    "ROOT_URL = 'http://www.moviesubtitles.org/'\n",
    "user_agent = 'Mozilla/5.0 (Macintosh; Intel Mac OS X 10_11_4) AppleWebKit/537.36 (KHTML, like Gecko) Chrome/49.0.2623.87 Safari/537.36'\n",
    "headers = { 'User-Agent' : user_agent }"
   ]
  },
  {
   "cell_type": "code",
   "execution_count": 80,
   "metadata": {
    "collapsed": false
   },
   "outputs": [],
   "source": [
    "def download(pageNum):\n",
    "    page_url = ROOT_URL + 'movies-{}.html'.format(pageNum)\n",
    "    request = urllib2.Request(page_url, headers=headers)\n",
    "    response = urllib2.urlopen(request)\n",
    "    \n",
    "    soup = BeautifulSoup(response.read().decode('ISO-8859-1'), 'lxml')\n",
    "    \n",
    "    div_tag = soup.find_all('div', class_='movies')[0]\n",
    "    \n",
    "    success = 0\n",
    "    for movie_tag in div_tag.children:\n",
    "        if not isinstance(movie_tag, bs4.element.Tag): continue\n",
    "        if len(movie_tag.find_all(title='Subtitles')[0].find_all(src='images/flags/en.gif')) == 0: continue\n",
    "        \n",
    "        movie_name = movie_tag.find(title='Name').get_text()\n",
    "        \n",
    "        request = urllib2.Request(ROOT_URL + movie_tag['href'], headers=headers)\n",
    "        response = urllib2.urlopen(request)\n",
    "        \n",
    "        soup = BeautifulSoup(response.read().decode('ISO-8859-1'), 'lxml')\n",
    "        sub_url = soup.find(title='Download english subtitles')['href']\n",
    "        download_url = ROOT_URL + 'download-' + sub_url.split('-')[1]\n",
    "        \n",
    "        request = urllib2.Request(download_url, headers=headers)\n",
    "        response = urllib2.urlopen(request)\n",
    "        \n",
    "        try:\n",
    "            with open('movie_subtitles/' + movie_name + '.zip', 'w') as f:\n",
    "                f.write(response.read())\n",
    "            success += 1\n",
    "        except:\n",
    "            e = sys.exc_info()[0]\n",
    "            print( \"<p>Error: %s</p>, %s\" % (e, movie_name) )\n",
    "            \n",
    "        time.sleep(random.randint(20,61))\n",
    "    \n",
    "    print (\"Page {} finished with {} movies.\".format(pageNum, success))"
   ]
  },
  {
   "cell_type": "code",
   "execution_count": null,
   "metadata": {
    "collapsed": false
   },
   "outputs": [],
   "source": [
    "download('A')"
   ]
  },
  {
   "cell_type": "code",
   "execution_count": null,
   "metadata": {
    "collapsed": true
   },
   "outputs": [],
   "source": [
    "import string\n",
    "candidates = list(string.uppercase())[1:] + ['#']\n",
    "\n",
    "for c in candidates:\n",
    "    download(c)"
   ]
  }
 ],
 "metadata": {
  "kernelspec": {
   "display_name": "Python 2",
   "language": "python",
   "name": "python2"
  },
  "language_info": {
   "codemirror_mode": {
    "name": "ipython",
    "version": 2
   },
   "file_extension": ".py",
   "mimetype": "text/x-python",
   "name": "python",
   "nbconvert_exporter": "python",
   "pygments_lexer": "ipython2",
   "version": "2.7.11"
  }
 },
 "nbformat": 4,
 "nbformat_minor": 0
}
