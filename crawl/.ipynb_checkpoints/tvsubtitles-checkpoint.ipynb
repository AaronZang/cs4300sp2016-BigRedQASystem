{
 "cells": [
  {
   "cell_type": "code",
   "execution_count": 1,
   "metadata": {
    "collapsed": false
   },
   "outputs": [
    {
     "name": "stdout",
     "output_type": "stream",
     "text": [
      "number of tv series: 1777\n"
     ]
    }
   ],
   "source": [
    "from __future__ import print_function\n",
    "import requests\n",
    "import re\n",
    "session = requests.session()\n",
    "\n",
    "# movie_lists = ['http://www.moviesubtitles.org/movies.html'] + \\\n",
    "#               ['http://www.moviesubtitles.org/movies_%s.html' % chr(c) for c in xrange(66, 91)] + \\\n",
    "#               ['http://www.moviesubtitles.org/movies_#.html']\n",
    "\n",
    "BASE_URL = 'http://www.tvsubtitles.net/'\n",
    "TV_LIST = 'http://www.tvsubtitles.net/tvshows.html'\n",
    "response = session.get(TV_LIST)\n",
    "response.raise_for_status()\n",
    "\n",
    "tvlist_content = response.content\n",
    "shows = re.findall(r'<a href=\"(tvshow-.*?\\.html)\"', tvlist_content)\n",
    "print('number of tv series:', len(shows))"
   ]
  },
  {
   "cell_type": "code",
   "execution_count": null,
   "metadata": {
    "collapsed": false
   },
   "outputs": [
    {
     "name": "stdout",
     "output_type": "stream",
     "text": [
      "0 tvshow-634-10.html \t(0) for (1)seasons.\n",
      "1 tvshow-486-1.html \t(1) for (1)seasons.\n",
      "2 tvshow-1769-1.html \t(0) for (1)seasons.\n",
      "3 tvshow-700-1.html \t(1) for (1)seasons.\n",
      "4 tvshow-1110-1.html \t(1) for (1)seasons.\n",
      "5 tvshow-1938-1.html \t(1) for (1)seasons.\n",
      "6 tvshow-1655-1.html \t(1) for (1)seasons.\n",
      "7 tvshow-875-3.html \t(0) for (1)seasons.\n",
      "8 tvshow-1226-1.html \t(1) for (1)seasons.\n",
      "9 tvshow-739-2.html \t(0) for (1)seasons.\n",
      "10 tvshow-899-2.html \t(0) for (1)seasons.\n",
      "11 tvshow-985-5.html \t(5) for (5)seasons.\n",
      "12 tvshow-38-9.html \t(9) for (9)seasons.\n",
      "13 tvshow-451-1.html \t(1) for (1)seasons.\n",
      "14 tvshow-46-7.html \t(7) for (7)seasons.\n",
      "15 tvshow-943-1.html \t(0) for (1)seasons.\n",
      "16 tvshow-653-6.html \t(0) for (1)seasons.\n",
      "17 tvshow-1171-2.html \t(0) for (1)seasons.\n",
      "18 tvshow-271-1.html \t(1) for (1)seasons.\n",
      "19 tvshow-1205-1.html \t(1) for (1)seasons.\n",
      "20 tvshow-419-11.html \t(0) for (1)seasons.\n",
      "21 tvshow-642-3.html \t(0) for (1)seasons.\n",
      "22 tvshow-244-5.html \t(5) for (5)seasons.\n",
      "23 tvshow-361-4.html \t(4) for (4)seasons.\n",
      "24 tvshow-993-1.html \t(1) for (1)seasons.\n",
      "25 tvshow-1567-1.html \t(1) for (1)seasons.\n",
      "26 tvshow-1229-1.html \t(1) for (1)seasons.\n",
      "27 tvshow-1729-1.html \t(1) for (1)seasons.\n",
      "28 tvshow-1437-2.html \t(2) for (2)seasons.\n",
      "29 tvshow-616-4.html \t(0) for (1)seasons.\n",
      "30 tvshow-500-2.html \t(2) for (2)seasons.\n",
      "31 tvshow-508-1.html \t(1) for (1)seasons.\n",
      "32 tvshow-537-8.html \t(0) for (1)seasons.\n",
      "33 tvshow-823-2.html \t(2) for (2)seasons.\n",
      "34 tvshow-1311-7.html \t(0) for (1)seasons.\n",
      "35 tvshow-1219-6.html \t(0) for (1)seasons.\n",
      "36 tvshow-313-1.html \t(0) for (1)seasons.\n",
      "37 tvshow-200-2.html \t(0) for (1)seasons.\n",
      "38 tvshow-955-1.html \t(1) for (1)seasons.\n",
      "39 tvshow-613-6.html \t(6) for (6)seasons.\n",
      "40 tvshow-992-13.html \t(0) for (1)seasons.\n",
      "41 tvshow-1896-1.html \t(1) for (1)seasons.\n",
      "42 tvshow-1034-6.html \t(0) for (1)seasons.\n",
      "43 tvshow-1092-14.html \t(0) for (1)seasons.\n",
      "44 tvshow-1462-4.html \t(2) for (4)seasons.\n",
      "45 tvshow-1075-3.html \t(0) for (1)seasons.\n",
      "46 tvshow-1038-1.html \t(1) for (1)seasons.\n",
      "47 tvshow-340-4.html \t(4) for (4)seasons.\n",
      "48 tvshow-394-7.html \t(0) for (1)seasons.\n",
      "49 tvshow-1616-2.html \t(2) for (2)seasons.\n",
      "50 tvshow-1419-2.html \t(0) for (1)seasons.\n",
      "51 tvshow-5-5.html \t(5) for (5)seasons.\n",
      "52 tvshow-593-1.html \t(1) for (1)seasons.\n",
      "53 tvshow-1072-1.html \t(1) for (1)seasons.\n",
      "54 tvshow-119-1.html \t(1) for (1)seasons.\n",
      "55 tvshow-819-7.html \t(0) for (1)seasons.\n",
      "56 tvshow-311-1.html \t(0) for (1)seasons.\n",
      "57 tvshow-916-9.html \t(0) for (1)seasons.\n",
      "58 tvshow-761-1.html \t(0) for (1)seasons.\n",
      "59 tvshow-1663-1.html \t(1) for (1)seasons.\n",
      "60 tvshow-1085-1.html \t(0) for (1)seasons.\n",
      "61 tvshow-1172-2.html \t(0) for (1)seasons.\n",
      "62 tvshow-158-5.html \t(5) for (5)seasons.\n",
      "63 tvshow-1391-2.html \t(0) for (1)seasons.\n",
      "64 tvshow-1384-1.html \t(1) for (1)seasons.\n",
      "65 tvshow-1515-1.html \t(1) for (1)seasons.\n",
      "66 tvshow-945-2.html \t(2) for (2)seasons.\n",
      "67 tvshow-570-2.html \t(0) for (1)seasons.\n",
      "68 tvshow-1431-1.html \t(0) for (1)seasons.\n",
      "69 tvshow-852-21.html \t(0) for (1)seasons.\n",
      "70 tvshow-1668-2.html \t(2) for (2)seasons.\n",
      "71 tvshow-1933-1.html \t(1) for (1)seasons.\n",
      "72 tvshow-138-11.html \t(9) for (11)seasons.\n",
      "73 tvshow-545-1.html \t(0) for (1)seasons.\n",
      "74 tvshow-994-5.html \t(5) for (5)seasons.\n",
      "75 tvshow-251-14.html \t(0) for (1)seasons.\n",
      "76 tvshow-1720-1.html \t(1) for (1)seasons.\n",
      "77 tvshow-1454-4.html \t(0) for (1)seasons.\n",
      "78 tvshow-1112-7.html \t(5) for (7)seasons.\n",
      "79 tvshow-304-5.html \t(0) for (1)seasons.\n",
      "80 tvshow-1211-1.html \t(0) for (1)seasons.\n",
      "81 tvshow-60-5.html \t(5) for (5)seasons.\n",
      "82 tvshow-49-1.html \t(1) for (1)seasons.\n",
      "83 tvshow-98-5.html \t(5) for (5)seasons.\n",
      "84 tvshow-1824-1.html \t(1) for (1)seasons.\n",
      "85 tvshow-562-1.html \t(1) for (1)seasons.\n",
      "86 tvshow-1140-2.html \t(2) for (2)seasons.\n",
      "87 tvshow-1166-1.html \t(0) for (1)seasons.\n",
      "88 tvshow-1033-3.html \t(0) for (1)seasons.\n",
      "89 tvshow-1243-1.html \t(0) for (1)seasons.\n",
      "90 tvshow-1011-3.html \t(0) for (1)seasons.\n",
      "91 tvshow-1537-1.html \t(0) for (1)seasons.\n",
      "92 tvshow-391-1.html \t(1) for (1)seasons.\n",
      "93 tvshow-972-1.html \t(1) for (1)seasons.\n",
      "94 tvshow-728-11.html \t(0) for (1)seasons.\n",
      "95 tvshow-546-1.html \t(0) for (1)seasons.\n",
      "96 tvshow-1748-1.html \t(1) for (1)seasons.\n",
      "97 tvshow-624-6.html \t(6) for (6)seasons.\n",
      "98 tvshow-1060-3.html \t(3) for (3)seasons.\n",
      "99 tvshow-705-3.html \t(0) for (1)seasons.\n",
      "100 tvshow-1155-10.html \t(0) for (1)seasons.\n",
      "101 tvshow-1058-1.html \t(1) for (1)seasons.\n",
      "102 tvshow-951-1.html \t(0) for (1)seasons.\n",
      "103 tvshow-242-7.html \t(0) for (1)seasons.\n",
      "104 tvshow-161-3.html \t(3) for (3)seasons.\n",
      "105 tvshow-1184-4.html \t(4) for (4)seasons.\n",
      "106 tvshow-1634-1.html \t(1) for (1)seasons.\n",
      "107 tvshow-1871-1.html \t(1) for (1)seasons.\n",
      "108 tvshow-151-3.html \t(3) for (3)seasons.\n",
      "109 tvshow-859-1.html \t(1) for (1)seasons.\n",
      "110"
     ]
    }
   ],
   "source": [
    "from collections import defaultdict\n",
    "\n",
    "subtitle_urls = defaultdict(list)\n",
    "errors = {}\n",
    "for i, link in enumerate(shows):\n",
    "    try:\n",
    "        if i % 10 == 9:\n",
    "            session = requests.session()\n",
    "        show_url = BASE_URL + link\n",
    "        response = session.get(show_url)\n",
    "        response.raise_for_status()\n",
    "        result = re.findall('<td><nobr><a href=\"(subtitle[\\d\\-]*?-en\\.html)\"', response.content)\n",
    "        \n",
    "        season_links = []\n",
    "        if result:\n",
    "            subtitle_urls[link].append(result[-1])\n",
    "\n",
    "            # Find all seasons.\n",
    "            season_links = re.findall(r'<a href=\"(tvshow[\\d\\-]*?\\.html)\"><b>Season \\d+</b></a>', response.content)\n",
    "            for sl in season_links:\n",
    "                season_url = BASE_URL + sl\n",
    "                response = session.get(season_url)\n",
    "                response.raise_for_status()\n",
    "                result = re.findall('<td><nobr><a href=\"(subtitle[\\d\\-]*?-en\\.html)\"', response.content)\n",
    "                if result:\n",
    "                    subtitle_urls[link].append(result[-1])\n",
    "\n",
    "        print(i, link, '\\t(%s) for (%s)seasons.' % (len(subtitle_urls[link]), len(season_links)+1))\n",
    "    except Exception as e:\n",
    "        errors[link] = e\n",
    "        print(i, link, '\\t'+e.message)"
   ]
  },
  {
   "cell_type": "code",
   "execution_count": 27,
   "metadata": {
    "collapsed": false
   },
   "outputs": [
    {
     "name": "stdout",
     "output_type": "stream",
     "text": []
    }
   ],
   "source": [
    "import json\n",
    "print(json.dumps(subtitle_urls, indent=2))"
   ]
  },
  {
   "cell_type": "code",
   "execution_count": 30,
   "metadata": {
    "collapsed": false
   },
   "outputs": [],
   "source": [
    "with open('subtitle_urls.json', 'w') as f:\n",
    "    f.write(json.dumps(subtitle_urls, indent=2))"
   ]
  },
  {
   "cell_type": "code",
   "execution_count": 49,
   "metadata": {
    "collapsed": false
   },
   "outputs": [],
   "source": [
    "import logging\n",
    "logger = logging.getLogger()\n",
    "fhandler = logging.FileHandler(filename='tvsub.log', mode='a')\n",
    "formatter = logging.Formatter('%(asctime)s - %(name)s - %(levelname)s - %(message)s')\n",
    "fhandler.setFormatter(formatter)\n",
    "logger.addHandler(fhandler)\n",
    "logger.setLevel(logging.INFO)\n",
    "logging.getLogger(\"requests\").setLevel(logging.WARNING)\n"
   ]
  },
  {
   "cell_type": "code",
   "execution_count": null,
   "metadata": {
    "collapsed": false
   },
   "outputs": [],
   "source": [
    "for i, (key, urls) in enumerate(subtitle_urls.iteritems()):\n",
    "    if i<1235:\n",
    "        continue\n",
    "    for url in urls:\n",
    "        try:\n",
    "            download_url = BASE_URL + url.replace('subtitle', 'download')\n",
    "            response = session.get(download_url)\n",
    "\n",
    "            response.raise_for_status()\n",
    "            assert 'application/zip' == response.headers['Content-Type']\n",
    "\n",
    "            fname = url.replace('subtitle-', '').replace('.html', '.zip')\n",
    "            with open('/Volumes/HDD/CS4300/tvsubtitles/' + fname, 'w') as f:\n",
    "                for block in response.iter_content(16384):\n",
    "                    f.write(block)\n",
    "        except Exception as e:\n",
    "            logger.exception(e)\n",
    "    logger.info('%d %s' % (i, key))"
   ]
  },
  {
   "cell_type": "code",
   "execution_count": 44,
   "metadata": {
    "collapsed": false
   },
   "outputs": [
    {
     "data": {
      "text/plain": [
       "'application/zip'"
      ]
     },
     "execution_count": 44,
     "metadata": {},
     "output_type": "execute_result"
    }
   ],
   "source": [
    "response.headers['Content-Type']"
   ]
  },
  {
   "cell_type": "code",
   "execution_count": null,
   "metadata": {
    "collapsed": false
   },
   "outputs": [],
   "source": []
  }
 ],
 "metadata": {
  "kernelspec": {
   "display_name": "Python 2",
   "language": "python",
   "name": "python2"
  },
  "language_info": {
   "codemirror_mode": {
    "name": "ipython",
    "version": 2
   },
   "file_extension": ".py",
   "mimetype": "text/x-python",
   "name": "python",
   "nbconvert_exporter": "python",
   "pygments_lexer": "ipython2",
   "version": "2.7.11"
  }
 },
 "nbformat": 4,
 "nbformat_minor": 0
}
